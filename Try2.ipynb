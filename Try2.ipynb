{
 "cells": [
  {
   "cell_type": "code",
   "execution_count": 1,
   "id": "5962196e-3c80-4ef6-8d6a-7fdcbfab55a5",
   "metadata": {
    "tags": []
   },
   "outputs": [],
   "source": [
    "def get_max(a_list):\n",
    "    for i in range(len(a_list)):\n",
    "        previous_el = a_list[i-1]\n",
    "        current_el = a_list[i]\n",
    "        print(i, previous_el, current_el)\n",
    "        if previous_el >= current_el:\n",
    "            max_el = previous_el \n",
    "        else:\n",
    "            max_el = current_el\n",
    "        print(max_el)\n",
    "    return max_el"
   ]
  },
  {
   "cell_type": "code",
   "execution_count": 2,
   "id": "8abd2529-68d8-4104-9c00-f5d0ecbe2dd8",
   "metadata": {
    "tags": []
   },
   "outputs": [],
   "source": [
    "#Andrew Chang,Isaac,Jaime,Vanessa,Lauri "
   ]
  },
  {
   "cell_type": "code",
   "execution_count": null,
   "id": "5321a084-461a-48b8-a25b-389a957acc1a",
   "metadata": {},
   "outputs": [],
   "source": []
  }
 ],
 "metadata": {
  "kernelspec": {
   "display_name": "Python 3 (ipykernel)",
   "language": "python",
   "name": "python3"
  },
  "language_info": {
   "codemirror_mode": {
    "name": "ipython",
    "version": 3
   },
   "file_extension": ".py",
   "mimetype": "text/x-python",
   "name": "python",
   "nbconvert_exporter": "python",
   "pygments_lexer": "ipython3",
   "version": "3.10.9"
  }
 },
 "nbformat": 4,
 "nbformat_minor": 5
}
